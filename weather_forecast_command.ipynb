{
 "cells": [
  {
   "cell_type": "code",
   "execution_count": 2,
   "metadata": {},
   "outputs": [
    {
     "name": "stdout",
     "output_type": "stream",
     "text": [
      "https://www.wunderground.com/cgi-bin/findweather/getForecast?query=Barcelona%2C+Spain\n"
     ]
    }
   ],
   "source": [
    "CITY = \"Barcelona\"\n",
    "COUNTRY = \"Spain\"\n",
    "\n",
    "url = \"https://www.wunderground.com/cgi-bin/findweather/getForecast?query=\"+CITY+\"%2C+\" + COUNTRY\n",
    "print url"
   ]
  },
  {
   "cell_type": "code",
   "execution_count": null,
   "metadata": {
    "collapsed": true
   },
   "outputs": [],
   "source": []
  }
 ],
 "metadata": {
  "kernelspec": {
   "display_name": "ntenv",
   "language": "python",
   "name": "ntenv"
  },
  "language_info": {
   "codemirror_mode": {
    "name": "ipython",
    "version": 2
   },
   "file_extension": ".py",
   "mimetype": "text/x-python",
   "name": "python",
   "nbconvert_exporter": "python",
   "pygments_lexer": "ipython2",
   "version": "2.7.13"
  }
 },
 "nbformat": 4,
 "nbformat_minor": 2
}
